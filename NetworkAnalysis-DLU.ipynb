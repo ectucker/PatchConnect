{
 "cells": [
  {
   "cell_type": "markdown",
   "metadata": {},
   "source": [
    "## Create Edge List\n",
    "Creates an edge list for each patch in a provided patch raster and cost surface"
   ]
  },
  {
   "cell_type": "code",
   "execution_count": 1,
   "metadata": {},
   "outputs": [],
   "source": [
    "#Import libraries\n",
    "import numpy as np\n",
    "import pandas as pd\n",
    "import networkx as nx\n",
    "import os"
   ]
  },
  {
   "cell_type": "code",
   "execution_count": 2,
   "metadata": {},
   "outputs": [],
   "source": [
    "%run ./DU_GraphTools99.py"
   ]
  },
  {
   "cell_type": "code",
   "execution_count": 3,
   "metadata": {},
   "outputs": [],
   "source": [
    "def msg(txt):\n",
    "    print(txt)\n",
    "    if \"arcpy\" in dir(): arcpy.AddMessage(txt)\n",
    "    return"
   ]
  },
  {
   "cell_type": "code",
   "execution_count": 4,
   "metadata": {},
   "outputs": [],
   "source": [
    "def buildGraph(edgeFile,maxThresh):\n",
    "    if not os.path.exists(edgeFile):\n",
    "        print(\"{} does not exist\".format(edgeFile))\n",
    "    # Build graph from edgelist\n",
    "    G = nx.Graph()\n",
    "    edgeList = open(edgeFile, 'r')\n",
    "    lineText = edgeList.readline()\n",
    "    # Check whether the first line is a header line\n",
    "    if (lineText.split(\",\")[0]).isalpha:\n",
    "        lineText = edgeList.readline()\n",
    "    while lineText:\n",
    "        lineData = lineText.split(\",\")\n",
    "        u = int(lineData[0])\n",
    "        v = int(lineData[1])\n",
    "        w = float(lineData[2][:-1])\n",
    "        if w <= maxThresh:\n",
    "            G.add_edge(u,v,weight = w)\n",
    "        lineText = edgeList.readline()\n",
    "    edgeList.close()\n",
    "    return G"
   ]
  },
  {
   "cell_type": "code",
   "execution_count": 5,
   "metadata": {},
   "outputs": [],
   "source": [
    "#Get inputs\n",
    "edgeFile = '../EdgeList.csv'\n",
    "minThresh = 0\n",
    "maxThresh = 20000\n",
    "threshInt = 4000\n",
    "outFile = '../Summary.csv'"
   ]
  },
  {
   "cell_type": "code",
   "execution_count": 6,
   "metadata": {},
   "outputs": [
    {
     "name": "stdout",
     "output_type": "stream",
     "text": [
      "Building graph from ../EdgeList.csv\n",
      "Creating thresholded graphs\n",
      "Calculating graph properties\n"
     ]
    }
   ],
   "source": [
    "msg(\"Building graph from %s\" %edgeFile)\n",
    "G = buildGraph(edgeFile,maxThresh)\n",
    "    \n",
    "msg(\"Creating thresholded graphs\")\n",
    "gts = edge_threshold_sequence(G,minThresh,maxThresh,threshInt)\n",
    "\n",
    "msg(\"Calculating graph properties\")\n",
    "gcs = graph_comp_sequence(gts)\n",
    "\n",
    "df = pd.DataFrame(gcs).T\n",
    "df.columns = ['nc','diam']"
   ]
  },
  {
   "cell_type": "code",
   "execution_count": 7,
   "metadata": {},
   "outputs": [],
   "source": [
    "#Diameter\n",
    "df['diam'].plot();"
   ]
  },
  {
   "cell_type": "code",
   "execution_count": 8,
   "metadata": {},
   "outputs": [
    {
     "data": {
      "image/png": "[encoded data removed]",
      "text/plain": [
       "<matplotlib.figure.Figure at 0x206d20d9780>"
      ]
     },
     "metadata": {},
     "output_type": "display_data"
    }
   ],
   "source": [
    "#Number of components\n",
    "df['nc'].plot();"
   ]
  },
  {
   "cell_type": "code",
   "execution_count": 9,
   "metadata": {},
   "outputs": [
    {
     "name": "stdout",
     "output_type": "stream",
     "text": [
      "Writing data to ../Summary.csv\n"
     ]
    },
    {
     "ename": "AttributeError",
     "evalue": "'dict' object has no attribute 'iteritems'",
     "output_type": "error",
     "traceback": [
      "\u001b[1;31m---------------------------------------------------------------------------\u001b[0m",
      "\u001b[1;31mAttributeError\u001b[0m                            Traceback (most recent call last)",
      "\u001b[1;32m<ipython-input-9-5bae3b4bc80b>\u001b[0m in \u001b[0;36m<module>\u001b[1;34m()\u001b[0m\n\u001b[0;32m      1\u001b[0m \u001b[0mmsg\u001b[0m\u001b[1;33m(\u001b[0m\u001b[1;34m\"Writing data to %s\"\u001b[0m \u001b[1;33m%\u001b[0m\u001b[0moutFile\u001b[0m\u001b[1;33m)\u001b[0m\u001b[1;33m\u001b[0m\u001b[0m\n\u001b[1;32m----> 2\u001b[1;33m \u001b[0mwrite_graph_comp_sequence\u001b[0m\u001b[1;33m(\u001b[0m\u001b[0mgcs\u001b[0m\u001b[1;33m,\u001b[0m\u001b[0moutFile\u001b[0m\u001b[1;33m)\u001b[0m\u001b[1;33m\u001b[0m\u001b[0m\n\u001b[0m",
      "\u001b[1;32mC:\\Workspace\\PronghornConnectivity\\scripts\\PatchConnect\\DU_GraphTools99.py\u001b[0m in \u001b[0;36mwrite_graph_comp_sequence\u001b[1;34m(gcs, path)\u001b[0m\n\u001b[0;32m    131\u001b[0m    \u001b[0mf\u001b[0m \u001b[1;33m=\u001b[0m \u001b[0mopen\u001b[0m\u001b[1;33m(\u001b[0m\u001b[0mpath\u001b[0m\u001b[1;33m,\u001b[0m \u001b[1;34m'w'\u001b[0m\u001b[1;33m)\u001b[0m\u001b[1;33m\u001b[0m\u001b[0m\n\u001b[0;32m    132\u001b[0m    \u001b[0mf\u001b[0m\u001b[1;33m.\u001b[0m\u001b[0mwrite\u001b[0m\u001b[1;33m(\u001b[0m\u001b[1;34m'%s\\n'\u001b[0m \u001b[1;33m%\u001b[0m \u001b[1;34m'Distance, NComps, Diameter'\u001b[0m\u001b[1;33m)\u001b[0m\u001b[1;33m\u001b[0m\u001b[0m\n\u001b[1;32m--> 133\u001b[1;33m    \u001b[1;32mfor\u001b[0m \u001b[0mk\u001b[0m\u001b[1;33m,\u001b[0m\u001b[0mv\u001b[0m \u001b[1;32min\u001b[0m \u001b[0mgcs\u001b[0m\u001b[1;33m.\u001b[0m\u001b[0miteritems\u001b[0m\u001b[1;33m(\u001b[0m\u001b[1;33m)\u001b[0m\u001b[1;33m:\u001b[0m\u001b[1;33m\u001b[0m\u001b[0m\n\u001b[0m\u001b[0;32m    134\u001b[0m        \u001b[1;33m(\u001b[0m\u001b[0mnc\u001b[0m\u001b[1;33m,\u001b[0m \u001b[0mdiam\u001b[0m\u001b[1;33m)\u001b[0m \u001b[1;33m=\u001b[0m \u001b[0mv\u001b[0m\u001b[1;33m\u001b[0m\u001b[0m\n\u001b[0;32m    135\u001b[0m        \u001b[0mf\u001b[0m\u001b[1;33m.\u001b[0m\u001b[0mwrite\u001b[0m\u001b[1;33m(\u001b[0m\u001b[1;34m'%4d, %5d, %10.3f\\n'\u001b[0m \u001b[1;33m%\u001b[0m \u001b[1;33m(\u001b[0m\u001b[0mk\u001b[0m\u001b[1;33m,\u001b[0m \u001b[0mnc\u001b[0m\u001b[1;33m,\u001b[0m \u001b[0mdiam\u001b[0m\u001b[1;33m)\u001b[0m\u001b[1;33m)\u001b[0m\u001b[1;33m\u001b[0m\u001b[0m\n",
      "\u001b[1;31mAttributeError\u001b[0m: 'dict' object has no attribute 'iteritems'"
     ]
    }
   ],
   "source": [
    "msg(\"Writing data to %s\" %outFile)\n",
    "write_graph_comp_sequence(gcs,outFile)"
   ]
  }
 ],
 "metadata": {
  "kernelspec": {
   "display_name": "Python 3",
   "language": "python",
   "name": "python3"
  },
  "language_info": {
   "codemirror_mode": {
    "name": "ipython",
    "version": 3
   },
   "file_extension": ".py",
   "mimetype": "text/x-python",
   "name": "python",
   "nbconvert_exporter": "python",
   "pygments_lexer": "ipython3",
   "version": "3.6.2"
  }
 },
 "nbformat": 4,
 "nbformat_minor": 2
}
