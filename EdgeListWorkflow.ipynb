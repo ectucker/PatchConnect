{
 "cells": [
  {
   "cell_type": "markdown",
   "metadata": {},
   "source": [
    "## Create Edge List\n",
    "Creates an edge list for each patch in a provided patch raster and cost surface"
   ]
  },
  {
   "cell_type": "code",
   "execution_count": 1,
   "metadata": {},
   "outputs": [],
   "source": [
    "#Import libraries\n",
    "import arcpy\n",
    "from arcpy.sa import *\n",
    "import numpy as np\n",
    "import pandas as pd\n",
    "from skimage import graph\n",
    "from matplotlib import pyplot as plt"
   ]
  },
  {
   "cell_type": "code",
   "execution_count": 2,
   "metadata": {},
   "outputs": [],
   "source": [
    "#Set workspaces\n",
    "arcpy.env.workspace = 'C:/Workspace/PronghornConnectivity/PronghornConnectivity.gdb'\n",
    "arcpy.env.scratchWorkspace = 'C:/Workspace/PronghornConnectivity/Scratch/Scratch.gdb'\n",
    "arcpy.env.overwriteOutput = True"
   ]
  },
  {
   "cell_type": "code",
   "execution_count": 3,
   "metadata": {},
   "outputs": [],
   "source": [
    "def msg(txt):\n",
    "    print(txt)\n",
    "    arcpy.AddMessage(txt)\n",
    "    return"
   ]
  },
  {
   "cell_type": "code",
   "execution_count": 4,
   "metadata": {},
   "outputs": [],
   "source": [
    "#Get input datasets: Patches and CostSurface\n",
    "patchRaster = 'C:/Workspace/PronghornConnectivity/PronghornConnectivity.gdb/Patches'\n",
    "if not arcpy.Exists(patchRaster):\n",
    "    print(\"Cannot locate patch raster\")\n",
    "\n",
    "costRaster = 'C:/Workspace/PronghornConnectivity/PronghornConnectivity.gdb/CostSurface'\n",
    "if not arcpy.Exists(costRaster):\n",
    "    print(\"Cannot locate cost surface raster\")\n",
    "    \n",
    "maxCostDistance = 100000\n",
    "\n",
    "outRaster = 'C:/Workspace/PronghornConnectivity/PronghornConnectivity.gdb/CD{}'"
   ]
  },
  {
   "cell_type": "code",
   "execution_count": 5,
   "metadata": {},
   "outputs": [],
   "source": [
    "#Get the spatial reference, extent, and lower left coordinates\n",
    "sr = arcpy.Describe(costRaster).spatialReference\n",
    "cellSize = arcpy.Describe(costRaster).meanCellWidth\n",
    "extent = arcpy.Describe(costRaster).extent\n",
    "llCorner = arcpy.Point(extent.XMin,extent.YMin)"
   ]
  },
  {
   "cell_type": "code",
   "execution_count": 6,
   "metadata": {},
   "outputs": [],
   "source": [
    "#Create arrays of the patch and core rasters\n",
    "arrPatch = arcpy.RasterToNumPyArray(patchRaster,\n",
    "                                    lower_left_corner=llCorner,\n",
    "                                    nodata_to_value=-9999)\n",
    "\n",
    "arrCost = arcpy.RasterToNumPyArray(costRaster,\n",
    "                                   lower_left_corner=llCorner,\n",
    "                                   nodata_to_value=-9999)"
   ]
  },
  {
   "cell_type": "code",
   "execution_count": 7,
   "metadata": {},
   "outputs": [],
   "source": [
    "#Create a list of patchIDs\n",
    "patchIDs = np.unique(arrPatch).tolist()\n",
    "patchIDs.remove(-9999)"
   ]
  },
  {
   "cell_type": "code",
   "execution_count": null,
   "metadata": {},
   "outputs": [],
   "source": [
    "arrList = []\n",
    "for patchID in patchIDs[:5]:\n",
    "    msg(\"{}...\".format(patchID))\n",
    "\n",
    "    #Reclassify cost in patch cells to zero\n",
    "    arrCostMod = arrCost.copy()\n",
    "    arrCostMod[arrPatch == patchID] = 0\n",
    "    arrCostMod[arrCostMod == -9999] = 100000\n",
    "\n",
    "    #Create the MCP object (Geometric accounts for diagonals)\n",
    "    lg = graph.MCP_Geometric(arrCostMod, sampling=(cellSize, cellSize))\n",
    "\n",
    "    #Get the index of a cell in the current patch ID\n",
    "    i,j = np.where(arrPatch == patchID)\n",
    "    startCell = i[0],j[0]\n",
    "    startCells = list(zip(i,j))\n",
    "\n",
    "    #Compute cost distances away from a source\n",
    "    #lcd = lg.find_costs(starts=[startCell])[0]\n",
    "    lcd = lg.find_costs(starts=startCells)[0]\n",
    "\n",
    "    #Add array to arrList\n",
    "    arrList.append(lcd)\n",
    "\n",
    "#Save cost distance raster\n",
    "#np.save(\"cd{}\".format(patchID),lcd)"
   ]
  },
  {
   "cell_type": "code",
   "execution_count": 33,
   "metadata": {},
   "outputs": [],
   "source": [
    "#Merge arrays\n",
    "arrCDs = np.stack(arrList)\n",
    "np.savez_compressed('costdists.npz',arrCDs)"
   ]
  },
  {
   "cell_type": "code",
   "execution_count": 27,
   "metadata": {},
   "outputs": [
    {
     "data": {
      "text/plain": [
       "(5, 1628, 1731)"
      ]
     },
     "execution_count": 27,
     "metadata": {},
     "output_type": "execute_result"
    }
   ],
   "source": [
    "arrCDs.shape"
   ]
  },
  {
   "cell_type": "code",
   "execution_count": 26,
   "metadata": {},
   "outputs": [],
   "source": [
    "#Convert to raster\n",
    "cdRaster = arcpy.NumPyArrayToRaster(arrCDs,llCorner,cellSize,cellSize)\n",
    "cdRaster.save('C:/Workspace/PronghornConnectivity/PronghornConnectivity.gdb/CDs')"
   ]
  },
  {
   "cell_type": "code",
   "execution_count": 29,
   "metadata": {},
   "outputs": [
    {
     "data": {
      "text/plain": [
       "1"
      ]
     },
     "execution_count": 29,
     "metadata": {},
     "output_type": "execute_result"
    }
   ],
   "source": [
    "arcpy.da.Describe(cdRaster).keys()\n",
    "arcpy.Describe(cdRaster).bandCount"
   ]
  },
  {
   "cell_type": "code",
   "execution_count": null,
   "metadata": {},
   "outputs": [],
   "source": [
    "#Convert patch ID back to raster\n",
    "lcdRaster = arcpy.NumPyArrayToRaster(lcd,llCorner,cellSize,cellSize)\n",
    "\n",
    "lcdRaster.save(outRaster.format(patchID))\n",
    "arcpy.DefineProjection_management(in_dataset=lcdRaster,coor_system=sr);"
   ]
  },
  {
   "cell_type": "code",
   "execution_count": 18,
   "metadata": {},
   "outputs": [
    {
     "data": {
      "text/plain": [
       "[(4, 10),\n",
       " (4, 9),\n",
       " (4, 8),\n",
       " (4, 7),\n",
       " (4, 6),\n",
       " (4, 5),\n",
       " (4, 4),\n",
       " (3, 3),\n",
       " (2, 2),\n",
       " (1, 1)]"
      ]
     },
     "execution_count": 18,
     "metadata": {},
     "output_type": "execute_result"
    }
   ],
   "source": [
    "tb = lg.traceback([1,1])\n",
    "tb[-10:]"
   ]
  }
 ],
 "metadata": {
  "kernelspec": {
   "display_name": "Python 3",
   "language": "python",
   "name": "python3"
  },
  "language_info": {
   "codemirror_mode": {
    "name": "ipython",
    "version": 3
   },
   "file_extension": ".py",
   "mimetype": "text/x-python",
   "name": "python",
   "nbconvert_exporter": "python",
   "pygments_lexer": "ipython3",
   "version": "3.6.5"
  }
 },
 "nbformat": 4,
 "nbformat_minor": 2
}
