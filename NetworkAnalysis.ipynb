{
 "cells": [
  {
   "cell_type": "markdown",
   "metadata": {},
   "source": [
    "## Create Edge List\n",
    "Creates an edge list for each patch in a provided patch raster and cost surface"
   ]
  },
  {
   "cell_type": "code",
   "execution_count": 1,
   "metadata": {},
   "outputs": [],
   "source": [
    "#Import libraries\n",
    "import numpy as np\n",
    "import pandas as pd\n",
    "import networkx as nx\n",
    "import os"
   ]
  },
  {
   "cell_type": "code",
   "execution_count": 2,
   "metadata": {},
   "outputs": [],
   "source": [
    "def msg(txt):\n",
    "    print(txt)\n",
    "    if \"arcpy\" in dir(): arcpy.AddMessage(txt)\n",
    "    return"
   ]
  },
  {
   "cell_type": "code",
   "execution_count": 3,
   "metadata": {},
   "outputs": [],
   "source": [
    "def edge_threshold(G, max_wt):\n",
    "   import networkx as nx\n",
    "   \"\"\"\n",
    "   Accepts a (dense) weighted graph (XGraph) and a threshold weight,\n",
    "   returnsa new graph with only edges for which the weight is\n",
    "   less than the threshold.  The weights are general but this has been\n",
    "   designed for (and tested with) distances.\n",
    "\n",
    "   Usage:  if G is a XGraph with edges < 5000 m,\n",
    "   >>> G2 = edge_threshold(G, 3000)\n",
    "   returns a new graph with edges < 3000 m.\n",
    "\n",
    "   DL Urban (22 Feb 2007)\n",
    "   Added NetworkX version checking - 26 May 2009; JP Fay\n",
    "   \"\"\"\n",
    "\n",
    "   tG = nx.Graph()\n",
    "   G_edges = G.edges(data=True)\n",
    "     \n",
    "   nbunch = G.nodes()\n",
    "   tG.add_nodes_from(nbunch)   # copy the nodes\n",
    "\n",
    "   for edge in G_edges:\n",
    "       (tn, fn, w) = edge\n",
    "       if w <= max_wt:\n",
    "           tG.add_edge(tn, fn, w)\n",
    "   return tG"
   ]
  },
  {
   "cell_type": "code",
   "execution_count": 4,
   "metadata": {},
   "outputs": [],
   "source": [
    "def edge_threshold_sequence(G, min_wt, max_wt, winc):\n",
    "   import networkx as nx\n",
    "   \"\"\"\n",
    "   Accepts a (dense) graph and systematically redefine its\n",
    "   edges by edge-thresholding it in a loop of calls to\n",
    "   edge_threshold (above), the loop provided by a min, max,\n",
    "   and increment.  Note (below) that the increment is added to\n",
    "   the max_wt to make sure max_wt is included in the range\n",
    "   (this is because of the way python does loops).\n",
    "   Returns a dictionary of graphs keyed by the threshold weights.\n",
    "\n",
    "   Usage:  if G is a dense XGraph with edge weights <= 10000 m,\n",
    "   >>> Gts = edge_threshold_sequence(G,1000,10000,1000)\n",
    "   returns a dictionary of of 10 new graphs keyed by the numbers\n",
    "   1000-10000.  To grab one:\n",
    "   >>> G4000 = Gts[4000]\n",
    "\n",
    "   DL Urban (22 Feb 2007)\n",
    "   Added NetworkX version checking - 26 May 2009; JP Fay\n",
    "   \"\"\"\n",
    "\n",
    "   Gts = {}\n",
    "   nbunch = G.nodes()\n",
    "   edges = G.edges(data=True)\n",
    "\n",
    "   for wt in range(min_wt, max_wt+winc, winc):\n",
    "       tGw = nx.Graph()\n",
    "       tGw.add_nodes_from(nbunch)\n",
    "       for e in edges:\n",
    "           (n1, n2, w) = e\n",
    "           if w['weight'] <= wt:\n",
    "               tGw.add_edge(n1, n2, length=w)\n",
    "       Gts[wt] = tGw\n",
    "   return Gts"
   ]
  },
  {
   "cell_type": "code",
   "execution_count": 5,
   "metadata": {},
   "outputs": [],
   "source": [
    "#   Assess a dictionary of graphs keyed by dispersal distance\n",
    "#   threshold, in terms of number of components and diameter.\n",
    "\n",
    "def graph_comp_sequence(Gts):\n",
    "   import networkx as nx\n",
    "   \"\"\"\n",
    "   Gts is a graph thresholding sequence, a dictionary of graphs\n",
    "   keyed by threshold distance, see edge_threshold_sequence().\n",
    "   This function takes that sequence and returns the number of\n",
    "   components in each graph, along with the diameter of the\n",
    "   largest component in each graph. The output is a dictionary of\n",
    "   tuples (NC, D(G)) keyed by threshold distance.\n",
    "\n",
    "   Requires:  x_diameter(G), local function.\n",
    "\n",
    "   Usage:  The output is intended to be printed to a file (see\n",
    "   write_table.txt for syntax), so that a plot can be constructed\n",
    "   that illustrates the number of components and graph diameter\n",
    "   as a function of distance.\n",
    "\n",
    "   DL Urban (22 Feb 2007)\n",
    "   \"\"\"\n",
    "\n",
    "   seq = Gts.keys()\n",
    "   gcs = {}\n",
    "   for d in seq:\n",
    "       print('.', end='') \n",
    "       g = Gts[d]\n",
    "       if nx.is_connected(g):\n",
    "           nc = 1\n",
    "           diam = x_diameter(g)\n",
    "       else:\n",
    "           nc = nx.number_connected_components(g)\n",
    "           # the largest connected component, #0 in the list:\n",
    "           gc = nx.connected_component_subgraphs(g)[0]\n",
    "           diam = x_diameter(gc)\n",
    "       gcs[d] = (nc, diam)\n",
    "   return gcs"
   ]
  },
  {
   "cell_type": "code",
   "execution_count": 6,
   "metadata": {},
   "outputs": [],
   "source": [
    "#   Write these out to a file:\n",
    "\n",
    "def write_graph_comp_sequence(gcs, path):\n",
    "   \"\"\"\n",
    "   Accept a graph component sequence from edge-thresholding, and\n",
    "   write the output as a table to a file.\n",
    "\n",
    "   Usage:\n",
    "   >>> Gts = edge_threshold_sequence(G, min, max, inc),\n",
    "   >>> gcs = graph_conn_sequence(Gts)\n",
    "   >>> write_graph_conn_sequence(gcs, path)\n",
    "\n",
    "   DL Urban (22 Feb 2007)\n",
    "   \"\"\"\n",
    "\n",
    "   f = open(path, 'w')\n",
    "   f.write('%s\\n' % 'Distance, NComps, Diameter')\n",
    "   for k,v in gcs.items():\n",
    "       (nc, diam) = v\n",
    "       f.write('%4d, %5d, %10.3f\\n' % (k, nc, diam))\n",
    "   f.close() \n",
    "\n",
    "# x_eccentricity and x_diameter correspond to the NX functions\n",
    "# but use weighted edges instead of tallying the number of links."
   ]
  },
  {
   "cell_type": "code",
   "execution_count": 7,
   "metadata": {},
   "outputs": [],
   "source": [
    "def x_diameter(G, e=None):\n",
    "    \"\"\"Return the diameter of the graph G.\n",
    "\n",
    "    The diameter is the maximum of all pairs shortest path.\n",
    "    This version calls x_eccentricity (above).\n",
    "    \"\"\"\n",
    "    if e is None:\n",
    "        e=x_eccentricity(G,with_labels=True)\n",
    "    return max(e.values())"
   ]
  },
  {
   "cell_type": "code",
   "execution_count": 8,
   "metadata": {},
   "outputs": [],
   "source": [
    "def x_eccentricity(G, v=None, sp=None, with_labels=False):\n",
    "    import networkx as nx\n",
    "\n",
    "    \"\"\"\n",
    "    Return the eccentricity of node v in G (or all nodes if v is None).\n",
    "    The eccentricity is the maximum of shortest paths to all other nodes. \n",
    "\n",
    "    This X version is the same as the original eccentricity and related\n",
    "    functions, but replaces the call to the single_source functions with\n",
    "    calls to the corresponding Diijkstra functions.  \n",
    "    Note the native functions are for unweighted graphs, while the\n",
    "    Dijkstra functions are for weighted graphs.  Even so, the\n",
    "    edge weights should be non-negative and not floating point. \n",
    "    (copied and altered by DL Urban, Feb 2007)\n",
    "\n",
    "    The optional keyword sp must be a dict of dicts of\n",
    "    shortest_path_length keyed by source and target.\n",
    "    That is, sp[v][t] is the length from v to t.\n",
    "       \n",
    "    If with_labels=True \n",
    "    return dict of eccentricities keyed by vertex.\n",
    "    \"\"\"\n",
    "    nodes=[]\n",
    "    if v is None:              # none, use entire graph \n",
    "        nodes=G.nodes() \n",
    "    elif isinstance(v, list):  # check for a list\n",
    "        nodes=v\n",
    "    else:                      # assume it is a single value\n",
    "        nodes=[v]\n",
    "\n",
    "    e={}\n",
    "    for v in nodes:\n",
    "        if sp is None:\n",
    "            length=nx.single_source_dijkstra_path_length(G,v)\n",
    "        else:\n",
    "            length=sp[v]\n",
    "        try:\n",
    "            assert len(length)==G.number_of_nodes()\n",
    "        except:\n",
    "            raise (nx.NetworkXError,\n",
    "                  \"Graph not connected: infinite path length\")\n",
    "            \n",
    "        e[v]=max(length.values())\n",
    "\n",
    "    if with_labels:\n",
    "        return e\n",
    "    else:\n",
    "        if len(e)==1: return e.values()[0] # return single value\n",
    "        return e.values()\n",
    "\n",
    "\n",
    "# Sensi_diameter computes the change in graph diameter\n",
    "# on the removal of each node--a way to find cut-nodes \n",
    "# that are also central to the graph.\n",
    "# Its helper function (following) writes the output."
   ]
  },
  {
   "cell_type": "code",
   "execution_count": 9,
   "metadata": {},
   "outputs": [],
   "source": [
    "def sensi_diameter(G):\n",
    "    import networkx as nx\n",
    "    \n",
    "    \"\"\"\n",
    "    Compute graph sensitivity to node removal, in terms of\n",
    "    the difference in graph diameter on the removal of each\n",
    "    node in turn.\n",
    "     \n",
    "    This uses local function x_diameter(G), which is modified\n",
    "    from networkx.diamter(G) to work on XGraphs.\n",
    "    \n",
    "    DL Urban (9 Feb 2007)\n",
    "    \"\"\"\n",
    "    \n",
    "    # Starting diameter for full graph:\n",
    "    \n",
    "    if nx.is_connected(G):\n",
    "        d0 = x_diameter(G)\n",
    "    else:\n",
    "        G0 = nx.connected_component_subgraphs(G) [0] # the largest subgraph\n",
    "        d0 = x_diameter(G0)\n",
    "        nc = nx.number_connected_components(G)\t     # how many are there?\n",
    "    \n",
    "    sensi = {}\n",
    "    \n",
    "    for node in G.nodes():\n",
    "        ex = G.edges(node) \t\t# a set of edges adjacent to node; \n",
    "        G.delete_edges_from(ex)\t\t# remove all of these,\n",
    "        G.delete_node(node)\t\t# and then kill the node, too\n",
    "        if nx.is_connected(G):\n",
    "            dx = x_diameter(G)\n",
    "            cuts = 0\n",
    "        else:\n",
    "            Gx = nx.connected_component_subgraphs(G) [0]\t# the biggest\n",
    "            ncx = nx.number_connected_components(G)\n",
    "            if nc == ncx:\n",
    "                cuts = 0\n",
    "            else:\n",
    "                cuts = 1\n",
    "            dx = x_diameter(Gx)\n",
    "        delta = d0 - dx\n",
    "        G.add_node(node)\t\t# put the node and edges back again\n",
    "        G.add_edges_from(ex)\n",
    "        sensi[node] = (cuts, delta)\n",
    " \n",
    "\n",
    "    # create and return a tuple (cuts, delta)\n",
    "    return sensi\n",
    "\n",
    "\n",
    "#   Write this output to a CSV file:"
   ]
  },
  {
   "cell_type": "code",
   "execution_count": 10,
   "metadata": {},
   "outputs": [],
   "source": [
    "def write_sensi_diameter(sensi, path):\n",
    "    f = open(path, 'w')\n",
    "    f.write('Node, Cuts, deltaD\\n')\n",
    "    for k,v in sensi.iteritems():\n",
    "        (cuts, delta) = v\n",
    "        f.write('%4d, %3d, %10.2f\\n' % (k, cuts, delta))\n",
    "    f.close()"
   ]
  },
  {
   "cell_type": "code",
   "execution_count": 11,
   "metadata": {},
   "outputs": [],
   "source": [
    "def buildGraph(edgeFile,maxThresh):\n",
    "    if not os.path.exists(edgeFile):\n",
    "        print(\"{} does not exist\".format(edgeFile))\n",
    "    # Build graph from edgelist\n",
    "    G = nx.Graph()\n",
    "    edgeList = open(edgeFile, 'r')\n",
    "    lineText = edgeList.readline()\n",
    "    # Check whether the first line is a header line\n",
    "    if (lineText.split(\",\")[0]).isalpha:\n",
    "        lineText = edgeList.readline()\n",
    "    while lineText:\n",
    "        lineData = lineText.split(\",\")\n",
    "        u = int(lineData[0])\n",
    "        v = int(lineData[1])\n",
    "        w = float(lineData[2][:-1])\n",
    "        if w <= maxThresh:\n",
    "            G.add_edge(u,v,weight = w)\n",
    "        lineText = edgeList.readline()\n",
    "    edgeList.close()\n",
    "    return G"
   ]
  },
  {
   "cell_type": "code",
   "execution_count": 24,
   "metadata": {},
   "outputs": [],
   "source": [
    "#Get inputs\n",
    "edgeFile = '../EdgeList.csv'\n",
    "minThresh = 0\n",
    "maxThresh = 20000\n",
    "threshInt = 4000\n",
    "outFile = '../Summary.csv'"
   ]
  },
  {
   "cell_type": "code",
   "execution_count": 25,
   "metadata": {},
   "outputs": [
    {
     "name": "stdout",
     "output_type": "stream",
     "text": [
      "Building graph from ../EdgeList.csv\n",
      "Creating thresholded graphs\n",
      "Calculating graph properties\n",
      "......"
     ]
    }
   ],
   "source": [
    "msg(\"Building graph from %s\" %edgeFile)\n",
    "G = buildGraph(edgeFile,maxThresh)\n",
    "    \n",
    "msg(\"Creating thresholded graphs\")\n",
    "gts = edge_threshold_sequence(G,minThresh,maxThresh,threshInt)\n",
    "\n",
    "msg(\"Calculating graph properties\")\n",
    "gcs = graph_comp_sequence(gts)\n",
    "\n",
    "df = pd.DataFrame(gcs).T\n",
    "df.columns = ['nc','diam']"
   ]
  },
  {
   "cell_type": "code",
   "execution_count": 26,
   "metadata": {},
   "outputs": [
    {
     "data": {
      "image/png": "[encoded data removed]",
      "text/plain": [
       "<matplotlib.figure.Figure at 0x24447e846a0>"
      ]
     },
     "metadata": {},
     "output_type": "display_data"
    }
   ],
   "source": [
    "#Diameter\n",
    "df['diam'].plot();"
   ]
  },
  {
   "cell_type": "code",
   "execution_count": 27,
   "metadata": {},
   "outputs": [
    {
     "data": {
      "image/png": "[encoded data removed]",
      "text/plain": [
       "<matplotlib.figure.Figure at 0x24444e455f8>"
      ]
     },
     "metadata": {},
     "output_type": "display_data"
    }
   ],
   "source": [
    "#Number of components\n",
    "df['nc'].plot();"
   ]
  },
  {
   "cell_type": "code",
   "execution_count": 15,
   "metadata": {},
   "outputs": [
    {
     "name": "stdout",
     "output_type": "stream",
     "text": [
      "Writing data to ../Summary.csv\n"
     ]
    }
   ],
   "source": [
    "msg(\"Writing data to %s\" %outFile)\n",
    "write_graph_comp_sequence(gcs,outFile)"
   ]
  }
 ],
 "metadata": {
  "kernelspec": {
   "display_name": "Python 3",
   "language": "python",
   "name": "python3"
  },
  "language_info": {
   "codemirror_mode": {
    "name": "ipython",
    "version": 3
   },
   "file_extension": ".py",
   "mimetype": "text/x-python",
   "name": "python",
   "nbconvert_exporter": "python",
   "pygments_lexer": "ipython3",
   "version": "3.6.2"
  }
 },
 "nbformat": 4,
 "nbformat_minor": 2
}
